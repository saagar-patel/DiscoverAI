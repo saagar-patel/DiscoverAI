{
    "metadata": {
        "kernelspec": {
            "name": "python3",
            "display_name": "Python 3 (ipykernel)",
            "language": "python"
        }
    },
    "nbformat": 4,
    "nbformat_minor": 2,
    "cells": [
        {
            "attachments": {},
            "cell_type": "markdown",
            "metadata": {},
            "source": [
                "**Describe the problem that you chose to solve. How is it related to the topic that your team will investigate for the Discover AI project?**"
            ]
        },
        {
            "attachments": {},
            "cell_type": "markdown",
            "metadata": {},
            "source": [
                "I chose to solve the heart disease identification problem. This relates to the topic my team will investigate because both involve Supervised Learning to train our model and discover key information."
            ]
        },
        {
            "attachments": {},
            "cell_type": "markdown",
            "metadata": {},
            "source": [
                "**Did you have to clean your dataset? If yes, desribe what you did.**"
            ]
        },
        {
            "attachments": {},
            "cell_type": "markdown",
            "metadata": {},
            "source": [
                "Yes, I had to clean my dataset. I did so by changing the categorical values in the dataset to numeric ones to allow for easier interpretation."
            ]
        },
        {
            "attachments": {},
            "cell_type": "markdown",
            "metadata": {},
            "source": [
                "**Did the program run successfully? If yes, summarise the results, otherwise, describe what went wrong and your attempt(s) to fix it.**"
            ]
        },
        {
            "attachments": {},
            "cell_type": "markdown",
            "metadata": {},
            "source": [
                "Yes, it ran successfully. "
            ]
        },
        {
            "attachments": {},
            "cell_type": "markdown",
            "metadata": {},
            "source": [
                "**Submit the link to your group's github**"
            ]
        },
        {
            "attachments": {},
            "cell_type": "markdown",
            "metadata": {},
            "source": [
                "https://github.com/saagar-patel/DiscoverAI"
            ]
        },
        {
            "attachments": {},
            "cell_type": "markdown",
            "metadata": {},
            "source": [
                "The repo is private, so a non-collaborator may not be able to see."
            ]
        },
        {
            "cell_type": "code",
            "execution_count": 3,
            "metadata": {},
            "outputs": [],
            "source": [
                ""
            ]
        }
    ]
}
